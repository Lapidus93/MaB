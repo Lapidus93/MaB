{
 "cells": [
  {
   "cell_type": "code",
   "execution_count": 8,
   "metadata": {},
   "outputs": [],
   "source": [
    "import random\n",
    "import pandas as pd\n",
    "\n",
    "#МЕТОДЫ\n",
    "#ПОКАЗАТЬ КАРТУ\n",
    "\n",
    "#фУНКЦИЯ\n",
    "#ВЫТЯНУТЬ КАРТУ\n",
    "\n",
    "class task(object):\n",
    "    \n",
    "    def __init__(self, id_t, deck, t_type, diff, length, task_n, description, to_do, reward):\n",
    "        self.id_t = id_t\n",
    "        self.deck = deck\n",
    "        self.t_type = t_type\n",
    "        self.diff = diff\n",
    "        self.length = length\n",
    "        self.task_n = task_n\n",
    "        self.description = descriptione\n",
    "        self.to_do = to_do\n",
    "        self.reward = reward\n",
    "        "
   ]
  }
 ],
 "metadata": {
  "kernelspec": {
   "display_name": "Python 3",
   "language": "python",
   "name": "python3"
  },
  "language_info": {
   "codemirror_mode": {
    "name": "ipython",
    "version": 3
   },
   "file_extension": ".py",
   "mimetype": "text/x-python",
   "name": "python",
   "nbconvert_exporter": "python",
   "pygments_lexer": "ipython3",
   "version": "3.7.1"
  }
 },
 "nbformat": 4,
 "nbformat_minor": 2
}
